{
 "cells": [
  {
   "cell_type": "code",
   "execution_count": 10,
   "metadata": {
    "ExecuteTime": {
     "end_time": "2025-04-01T22:13:13.676778Z",
     "start_time": "2025-04-01T22:13:13.667777Z"
    }
   },
   "outputs": [],
   "source": [
    "import numpy as np\n",
    "import networkx as nx\n",
    "import time\n",
    "import matplotlib.pyplot as plt\n",
    "from tqdm import tqdm"
   ]
  },
  {
   "cell_type": "code",
   "outputs": [],
   "source": [
    "def generate_graph(n):\n",
    "    \"\"\"\n",
    "    Генерация связного разреженного неориентированного графа с подграфами K7 и K4,5.\n",
    "    Граф будет иметь:\n",
    "      - Подграф K7 на первых 7 вершинах.\n",
    "      - Подграф K4,5 на следующих 9 вершинах (4 вершины в первой доле и 5 во второй).\n",
    "      - Остовное дерево для обеспечения связности оставшихся вершин.\n",
    "      - Дополнительные случайные рёбра для достижения нужной разреженности (средняя степень ~√n).\n",
    "    \"\"\"\n",
    "    G = nx.Graph()\n",
    "\n",
    "    # Добавляем все вершины\n",
    "    G.add_nodes_from(range(n))\n",
    "\n",
    "    # Создаем подграф K7 (первые 7 вершин)\n",
    "    k7_nodes = list(range(7))\n",
    "    for i in tqdm(k7_nodes, desc=\"Создание K7\", leave=False):\n",
    "        for j in k7_nodes:\n",
    "            if i < j:\n",
    "                G.add_edge(i, j, weight=np.random.uniform(0.1, 1.0))\n",
    "\n",
    "    # Создаем подграф K4,5 (следующие 9 вершин)\n",
    "    # Первая доля: 4 вершины, вторая доля: 5 вершин\n",
    "    k45_nodes_a = list(range(7, 11))  # 4 вершины\n",
    "    k45_nodes_b = list(range(11, 16))  # 5 вершин\n",
    "    for i in tqdm(k45_nodes_a, desc=\"Создание K4,5 (первая доля)\", leave=False):\n",
    "        for j in k45_nodes_b:\n",
    "            G.add_edge(i, j, weight=np.random.uniform(0.1, 1.0))\n",
    "\n",
    "    # Обеспечиваем связность: строим остовное дерево для оставшихся вершин (от 16 до n-1)\n",
    "    if n > 16:\n",
    "        remaining_nodes = list(range(16, n))\n",
    "        for i in tqdm(range(1, len(remaining_nodes)), desc=\"Построение остова\", leave=False):\n",
    "            u = remaining_nodes[i - 1]\n",
    "            v = remaining_nodes[i]\n",
    "            G.add_edge(u, v, weight=np.random.uniform(0.1, 1.0))\n",
    "\n",
    "    # Добавляем случайные ребра для достижения нужной плотности\n",
    "    # Требуемое число ребер приближенно равно n*sqrt(n)/2 (для неориентированного графа)\n",
    "    target_edges = int(n * np.sqrt(n)) // 2\n",
    "    current_edges = G.number_of_edges()\n",
    "\n",
    "    with tqdm(total=target_edges, desc=\"Добавление случайных рёбер\", leave=False) as pbar:\n",
    "        pbar.update(current_edges)\n",
    "        while current_edges < target_edges:\n",
    "            u = np.random.randint(0, n)\n",
    "            v = np.random.randint(0, n)\n",
    "            if u != v and not G.has_edge(u, v):\n",
    "                G.add_edge(u, v, weight=np.random.uniform(0.1, 1.0))\n",
    "                current_edges += 1\n",
    "                pbar.update(1)\n",
    "\n",
    "    return G"
   ],
   "metadata": {
    "collapsed": false,
    "ExecuteTime": {
     "end_time": "2025-04-01T22:13:13.691779Z",
     "start_time": "2025-04-01T22:13:13.678778Z"
    }
   },
   "execution_count": 11
  },
  {
   "cell_type": "code",
   "outputs": [],
   "source": [
    "def visualize_subgraphs(G):\n",
    "    \"\"\"\n",
    "    Визуализация подграфов:\n",
    "      - K7 (первые 7 вершин)\n",
    "      - K4,5 (вершины с 7 по 15)\n",
    "    \"\"\"\n",
    "    plt.figure(figsize=(15, 6))\n",
    "\n",
    "    # Визуализация K7\n",
    "    plt.subplot(121)\n",
    "    k7 = G.subgraph(range(7))\n",
    "    nx.draw(k7, with_labels=True, node_color='lightblue', node_size=500)\n",
    "    plt.title(\"Подграф K7\")\n",
    "\n",
    "    # Визуализация K4,5\n",
    "    plt.subplot(122)\n",
    "    k45 = G.subgraph(range(7, 16))\n",
    "    # Используем bipartite layout для визуализации двудольного графа K4,5\n",
    "    pos = nx.bipartite_layout(k45, nodes=range(7, 11))\n",
    "    nx.draw(k45, pos, with_labels=True, node_color='lightgreen', node_size=500)\n",
    "    plt.title(\"Подграф K4,5\")\n",
    "\n",
    "    plt.tight_layout()\n",
    "    plt.savefig(\"subgraphs.png\")\n",
    "    plt.close()"
   ],
   "metadata": {
    "collapsed": false,
    "ExecuteTime": {
     "end_time": "2025-04-01T22:13:13.706835Z",
     "start_time": "2025-04-01T22:13:13.692777Z"
    }
   },
   "execution_count": 12
  },
  {
   "cell_type": "code",
   "outputs": [],
   "source": [
    "def floyd_warshall_vectorized(G):\n",
    "    \"\"\"\n",
    "    Векторизированная реализация алгоритма Флойда–Уоршелла с использованием NumPy.\n",
    "    Возвращает матрицу расстояний и \"эквивалентное\" количество итераций (n*n за каждый шаг).\n",
    "    \"\"\"\n",
    "    n = G.number_of_nodes()\n",
    "    # Инициализация матрицы расстояний\n",
    "    dist = np.full((n, n), np.inf)\n",
    "    np.fill_diagonal(dist, 0)\n",
    "\n",
    "    # Заполнение матрицы для ребер\n",
    "    for u, v, data in G.edges(data=True):\n",
    "        dist[u, v] = data['weight']\n",
    "        dist[v, u] = data['weight']\n",
    "\n",
    "    iterations = 0\n",
    "    # Векторизированное обновление: для каждого k обновляем всю матрицу за один шаг\n",
    "    for k in tqdm(range(n), desc=\"Флойд–Уоршелл (векторизирован)\", leave=False):\n",
    "        # Правильный способ векторизации\n",
    "        dist = np.minimum(dist, dist[:, [k]] + dist[[k], :])\n",
    "        iterations += n * n  # логически эквивалентно тройному циклу\n",
    "    return dist, iterations"
   ],
   "metadata": {
    "collapsed": false,
    "ExecuteTime": {
     "end_time": "2025-04-01T22:13:13.722303Z",
     "start_time": "2025-04-01T22:13:13.707833Z"
    }
   },
   "execution_count": 13
  },
  {
   "cell_type": "code",
   "outputs": [],
   "source": [
    "def ford_bellman(G, start):\n",
    "    \"\"\"\n",
    "    Реализация алгоритма Форда–Беллмана для поиска кратчайших путей от стартовой вершины до всех остальных.\n",
    "    Возвращает массив расстояний и количество выполненных итераций.\n",
    "    \"\"\"\n",
    "    n = G.number_of_nodes()\n",
    "    dist = np.full(n, np.inf)\n",
    "    dist[start] = 0\n",
    "\n",
    "    # Так как граф неориентированный, добавляем рёбра в обоих направлениях\n",
    "    edges = list(G.edges(data=True)) + [(v, u, d) for u, v, d in G.edges(data=True)]\n",
    "\n",
    "    iterations = 0\n",
    "    for i in tqdm(range(n - 1), desc=\"Форд-Беллман\", leave=False):\n",
    "        relaxed = False\n",
    "        for u, v, data in edges:\n",
    "            if dist[u] + data['weight'] < dist[v]:\n",
    "                dist[v] = dist[u] + data['weight']\n",
    "                relaxed = True\n",
    "            iterations += 1\n",
    "        if not relaxed:\n",
    "            break  # Если ни одно расстояние не обновилось, завершаем досрочно\n",
    "    return dist, iterations"
   ],
   "metadata": {
    "collapsed": false,
    "ExecuteTime": {
     "end_time": "2025-04-01T22:13:13.744119Z",
     "start_time": "2025-04-01T22:13:13.724304Z"
    }
   },
   "execution_count": 14
  },
  {
   "cell_type": "code",
   "outputs": [],
   "source": [
    "def plot_distribution(distances, title):\n",
    "    \"\"\"\n",
    "    Визуализация распределения найденных кратчайших расстояний.\n",
    "    Строится гистограмма и сохраняется в файл.\n",
    "    \"\"\"\n",
    "    plt.figure(figsize=(10, 6))\n",
    "    plt.hist(distances, bins=50, color='skyblue', edgecolor='black')\n",
    "    plt.title(title)\n",
    "    plt.xlabel(\"Расстояние\")\n",
    "    plt.ylabel(\"Количество вершин\")\n",
    "    plt.grid(True, alpha=0.3)\n",
    "    filename = f\"{title.replace(' ', '_')}.png\"\n",
    "    plt.savefig(filename)\n",
    "    plt.close()"
   ],
   "metadata": {
    "collapsed": false,
    "ExecuteTime": {
     "end_time": "2025-04-01T22:13:13.759119Z",
     "start_time": "2025-04-01T22:13:13.745119Z"
    }
   },
   "execution_count": 15
  },
  {
   "cell_type": "code",
   "outputs": [],
   "source": [
    "def analyze_graph(n):\n",
    "    \"\"\"\n",
    "    Функция анализа графа заданного размера.\n",
    "    Генерирует граф, проверяет его свойства, выполняет алгоритмы Флойда–Уоршелла и Форда–Беллмана,\n",
    "    а также визуализирует распределение расстояний.\n",
    "    \"\"\"\n",
    "    print(f\"\\nАнализ графа с {n} вершинами\")\n",
    "    print(\"Генерация графа...\")\n",
    "    G = generate_graph(n)\n",
    "\n",
    "    # Визуализация подграфов только для небольших графов\n",
    "    if n <= 100:\n",
    "        visualize_subgraphs(G)\n",
    "\n",
    "    # Проверка свойств графа\n",
    "    print(\"\\nПроверка свойств:\")\n",
    "    print(f\"Связность: {nx.is_connected(G)}\")\n",
    "    print(f\"Количество вершин: {G.number_of_nodes()}\")\n",
    "    print(f\"Количество ребер: {G.number_of_edges()}\")\n",
    "    avg_degree = 2 * G.number_of_edges() / G.number_of_nodes()\n",
    "    print(f\"Средняя степень: {avg_degree:.2f}\")\n",
    "    print(f\"Теоретическая средняя степень (√n): {np.sqrt(n):.2f}\")\n",
    "\n",
    "    # Проверка наличия подграфов: K7 и K4,5\n",
    "    has_k7 = any(len(clique) >= 7 for clique in nx.find_cliques(G))\n",
    "    print(f\"Содержит K7: {has_k7}\")\n",
    "    print(\"Содержит K4,5: True (встроен явно)\")\n",
    "\n",
    "    # Анализ алгоритмов\n",
    "    # Запуск алгоритма Флойда-Уоршелла для графов с n <= 8000\n",
    "    if n <= 8000:\n",
    "        print(\"\\nЗапуск алгоритма Флойда-Уоршелла...\")\n",
    "        start_time = time.time()\n",
    "        fw_dist, fw_iter = floyd_warshall_vectorized(G)\n",
    "        print(fw_dist[:50][:50])\n",
    "        fw_time = time.time() - start_time\n",
    "        print(f\"Время выполнения Флойда-Уоршелла: {fw_time:.2f} сек\")\n",
    "        print(f\"Количество итераций: {fw_iter}\")\n",
    "        print(f\"Теоретическая сложность O(n^3): {n ** 3}\")\n",
    "    else:\n",
    "        print(\"\\nАлгоритм Флойда-Уоршелла не выполняется для n > 8000\")\n",
    "\n",
    "    # Запуск алгоритма Форда-Беллмана\n",
    "    print(\"\\nЗапуск алгоритма Форда-Беллмана...\")\n",
    "    start_time = time.time()\n",
    "    fb_dist, fb_iter = ford_bellman(G, 0)\n",
    "    fb_time = time.time() - start_time\n",
    "    print(f\"Время выполнения Форда-Беллмана: {fb_time:.2f} сек\")\n",
    "    print(f\"Количество итераций: {fb_iter}\")\n",
    "    print(f\"Теоретическая сложность O(nm): {n * G.number_of_edges()}\")\n",
    "    print(f\"Максимальное расстояние от вершины 0: {np.max(fb_dist):.2f}\")\n",
    "\n",
    "    # Визуализация распределения расстояний для графов с n <= 20000\n",
    "    if n <= 20000:\n",
    "        plot_distribution(fb_dist, f\"Распределение расстояний (n={n})\")\n",
    "        print(f\"Гистограмма распределения сохранена как 'Распределение_расстояний_(n={n}).png'\")"
   ],
   "metadata": {
    "collapsed": false,
    "ExecuteTime": {
     "end_time": "2025-04-01T22:13:13.775115Z",
     "start_time": "2025-04-01T22:13:13.760116Z"
    }
   },
   "execution_count": 16
  },
  {
   "cell_type": "code",
   "outputs": [
    {
     "name": "stdout",
     "output_type": "stream",
     "text": [
      "\n",
      "Анализ графа с 1200 вершинами\n",
      "Генерация графа...\n"
     ]
    },
    {
     "name": "stderr",
     "output_type": "stream",
     "text": [
      "                                                                                     \r"
     ]
    },
    {
     "name": "stdout",
     "output_type": "stream",
     "text": [
      "\n",
      "Проверка свойств:\n",
      "Связность: True\n",
      "Количество вершин: 1200\n",
      "Количество ребер: 20784\n",
      "Средняя степень: 34.64\n",
      "Теоретическая средняя степень (√n): 34.64\n",
      "Содержит K7: True\n",
      "Содержит K4,5: True (встроен явно)\n",
      "\n",
      "Запуск алгоритма Флойда-Уоршелла...\n"
     ]
    },
    {
     "name": "stderr",
     "output_type": "stream",
     "text": [
      "                                                                                    \r"
     ]
    },
    {
     "name": "stdout",
     "output_type": "stream",
     "text": [
      "[[0.         0.53664032 0.40145902 ... 0.58117987 0.66073536 0.81495044]\n",
      " [0.53664032 0.         0.47168673 ... 0.62900107 0.58262849 0.6873015 ]\n",
      " [0.40145902 0.47168673 0.         ... 0.39831581 0.68488721 0.68180989]\n",
      " ...\n",
      " [0.66385285 0.5905274  0.61897655 ... 0.76120228 0.6768727  0.94119417]\n",
      " [0.50700089 0.37677302 0.62914424 ... 0.45542503 0.56839328 0.64104927]\n",
      " [0.53649094 0.70116093 0.58541416 ... 0.71748541 0.57605027 0.60493107]]\n",
      "Время выполнения Флойда-Уоршелла: 6.56 сек\n",
      "Количество итераций: 1728000000\n",
      "Теоретическая сложность O(n^3): 1728000000\n",
      "\n",
      "Запуск алгоритма Форда-Беллмана...\n"
     ]
    },
    {
     "name": "stderr",
     "output_type": "stream",
     "text": [
      "                                                      \r"
     ]
    },
    {
     "name": "stdout",
     "output_type": "stream",
     "text": [
      "Время выполнения Форда-Беллмана: 0.14 сек\n",
      "Количество итераций: 207840\n",
      "Теоретическая сложность O(nm): 24940800\n",
      "Максимальное расстояние от вершины 0: 0.91\n",
      "Гистограмма распределения сохранена как 'Распределение_расстояний_(n=1200).png'\n",
      "\n",
      "Анализ графа с 3200 вершинами\n",
      "Генерация графа...\n"
     ]
    },
    {
     "name": "stderr",
     "output_type": "stream",
     "text": [
      "                                                                                     \r"
     ]
    },
    {
     "name": "stdout",
     "output_type": "stream",
     "text": [
      "\n",
      "Проверка свойств:\n",
      "Связность: True\n",
      "Количество вершин: 3200\n",
      "Количество ребер: 90509\n",
      "Средняя степень: 56.57\n",
      "Теоретическая средняя степень (√n): 56.57\n",
      "Содержит K7: True\n",
      "Содержит K4,5: True (встроен явно)\n",
      "\n",
      "Запуск алгоритма Флойда-Уоршелла...\n"
     ]
    },
    {
     "name": "stderr",
     "output_type": "stream",
     "text": [
      "                                                                                  \r"
     ]
    },
    {
     "ename": "KeyboardInterrupt",
     "evalue": "",
     "output_type": "error",
     "traceback": [
      "\u001B[1;31m---------------------------------------------------------------------------\u001B[0m",
      "\u001B[1;31mKeyboardInterrupt\u001B[0m                         Traceback (most recent call last)",
      "Cell \u001B[1;32mIn[17], line 5\u001B[0m\n\u001B[0;32m      2\u001B[0m sizes \u001B[38;5;241m=\u001B[39m [\u001B[38;5;241m1200\u001B[39m, \u001B[38;5;241m3200\u001B[39m, \u001B[38;5;241m8000\u001B[39m, \u001B[38;5;241m20000\u001B[39m, \u001B[38;5;241m29000\u001B[39m]\n\u001B[0;32m      4\u001B[0m \u001B[38;5;28;01mfor\u001B[39;00m size \u001B[38;5;129;01min\u001B[39;00m sizes:\n\u001B[1;32m----> 5\u001B[0m     \u001B[43manalyze_graph\u001B[49m\u001B[43m(\u001B[49m\u001B[43msize\u001B[49m\u001B[43m)\u001B[49m\n",
      "Cell \u001B[1;32mIn[16], line 34\u001B[0m, in \u001B[0;36manalyze_graph\u001B[1;34m(n)\u001B[0m\n\u001B[0;32m     32\u001B[0m \u001B[38;5;28mprint\u001B[39m(\u001B[38;5;124m\"\u001B[39m\u001B[38;5;130;01m\\n\u001B[39;00m\u001B[38;5;124mЗапуск алгоритма Флойда-Уоршелла...\u001B[39m\u001B[38;5;124m\"\u001B[39m)\n\u001B[0;32m     33\u001B[0m start_time \u001B[38;5;241m=\u001B[39m time\u001B[38;5;241m.\u001B[39mtime()\n\u001B[1;32m---> 34\u001B[0m fw_dist, fw_iter \u001B[38;5;241m=\u001B[39m \u001B[43mfloyd_warshall_vectorized\u001B[49m\u001B[43m(\u001B[49m\u001B[43mG\u001B[49m\u001B[43m)\u001B[49m\n\u001B[0;32m     35\u001B[0m \u001B[38;5;28mprint\u001B[39m(fw_dist[:\u001B[38;5;241m50\u001B[39m][:\u001B[38;5;241m50\u001B[39m])\n\u001B[0;32m     36\u001B[0m fw_time \u001B[38;5;241m=\u001B[39m time\u001B[38;5;241m.\u001B[39mtime() \u001B[38;5;241m-\u001B[39m start_time\n",
      "Cell \u001B[1;32mIn[13], line 20\u001B[0m, in \u001B[0;36mfloyd_warshall_vectorized\u001B[1;34m(G)\u001B[0m\n\u001B[0;32m     17\u001B[0m \u001B[38;5;66;03m# Векторизированное обновление: для каждого k обновляем всю матрицу за один шаг\u001B[39;00m\n\u001B[0;32m     18\u001B[0m \u001B[38;5;28;01mfor\u001B[39;00m k \u001B[38;5;129;01min\u001B[39;00m tqdm(\u001B[38;5;28mrange\u001B[39m(n), desc\u001B[38;5;241m=\u001B[39m\u001B[38;5;124m\"\u001B[39m\u001B[38;5;124mФлойд–Уоршелл (векторизирован)\u001B[39m\u001B[38;5;124m\"\u001B[39m, leave\u001B[38;5;241m=\u001B[39m\u001B[38;5;28;01mFalse\u001B[39;00m):\n\u001B[0;32m     19\u001B[0m     \u001B[38;5;66;03m# Правильный способ векторизации\u001B[39;00m\n\u001B[1;32m---> 20\u001B[0m     dist \u001B[38;5;241m=\u001B[39m \u001B[43mnp\u001B[49m\u001B[38;5;241;43m.\u001B[39;49m\u001B[43mminimum\u001B[49m\u001B[43m(\u001B[49m\u001B[43mdist\u001B[49m\u001B[43m,\u001B[49m\u001B[43m \u001B[49m\u001B[43mdist\u001B[49m\u001B[43m[\u001B[49m\u001B[43m:\u001B[49m\u001B[43m,\u001B[49m\u001B[43m \u001B[49m\u001B[43m[\u001B[49m\u001B[43mk\u001B[49m\u001B[43m]\u001B[49m\u001B[43m]\u001B[49m\u001B[43m \u001B[49m\u001B[38;5;241;43m+\u001B[39;49m\u001B[43m \u001B[49m\u001B[43mdist\u001B[49m\u001B[43m[\u001B[49m\u001B[43m[\u001B[49m\u001B[43mk\u001B[49m\u001B[43m]\u001B[49m\u001B[43m,\u001B[49m\u001B[43m \u001B[49m\u001B[43m:\u001B[49m\u001B[43m]\u001B[49m\u001B[43m)\u001B[49m\n\u001B[0;32m     21\u001B[0m     iterations \u001B[38;5;241m+\u001B[39m\u001B[38;5;241m=\u001B[39m n \u001B[38;5;241m*\u001B[39m n  \u001B[38;5;66;03m# логически эквивалентно тройному циклу\u001B[39;00m\n\u001B[0;32m     22\u001B[0m \u001B[38;5;28;01mreturn\u001B[39;00m dist, iterations\n",
      "\u001B[1;31mKeyboardInterrupt\u001B[0m: "
     ]
    }
   ],
   "source": [
    "# Размеры графов для анализа\n",
    "sizes = [1200, 3200, 8000, 20000, 29000]\n",
    "\n",
    "for size in sizes:\n",
    "    analyze_graph(size)"
   ],
   "metadata": {
    "collapsed": false,
    "ExecuteTime": {
     "end_time": "2025-04-01T22:13:44.933623Z",
     "start_time": "2025-04-01T22:13:13.776117Z"
    }
   },
   "execution_count": 17
  }
 ],
 "metadata": {
  "kernelspec": {
   "display_name": "Python 3",
   "language": "python",
   "name": "python3"
  },
  "language_info": {
   "codemirror_mode": {
    "name": "ipython",
    "version": 3
   },
   "file_extension": ".py",
   "mimetype": "text/x-python",
   "name": "python",
   "nbconvert_exporter": "python",
   "pygments_lexer": "ipython3",
   "version": "3.8"
  }
 },
 "nbformat": 4,
 "nbformat_minor": 4
}
